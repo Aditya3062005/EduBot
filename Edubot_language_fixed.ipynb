{
 "nbformat": 4,
 "nbformat_minor": 0,
 "metadata": {
  "colab": {
   "provenance": []
  },
  "kernelspec": {
   "name": "python3",
   "display_name": "Python 3"
  },
  "language_info": {
   "name": "python"
  }
 },
 "cells": [
  {
   "cell_type": "markdown",
   "source": [
    "Step 0: Securely Enter API Key (Run in a Separate Cell)"
   ],
   "metadata": {
    "id": "7Y3Q7Y5ZQFaE"
   }
  },
  {
   "cell_type": "code",
   "execution_count": null,
   "metadata": {
    "colab": {
     "base_uri": "https://localhost:8080/"
    },
    "id": "jUvi8mUwPtY-",
    "outputId": "47fe6eb8-5b5d-4654-90f5-b2775716bb9c"
   },
   "outputs": [
    {
     "name": "stdout",
     "output_type": "stream",
     "text": [
      "\ud83d\udd10 Enter your Gemini API Key: \u00b7\u00b7\u00b7\u00b7\u00b7\u00b7\u00b7\u00b7\u00b7\u00b7\n"
     ]
    }
   ],
   "source": [
    "import os\n",
    "import getpass\n",
    "os.environ[\"GEMINI_API_KEY\"] = getpass.getpass(\"\ud83d\udd10 Enter your Gemini API Key: \")\n"
   ]
  },
  {
   "cell_type": "markdown",
   "source": [
    "Step 1: Install necessary packages"
   ],
   "metadata": {
    "id": "qIWZ0T3RQJnC"
   }
  },
  {
   "cell_type": "code",
   "source": [
    "!pip install google-generativeai ipywidgets -q"
   ],
   "metadata": {
    "id": "QsyG8C3OQNtG"
   },
   "execution_count": null,
   "outputs": []
  },
  {
   "cell_type": "markdown",
   "source": [
    "Step 2: Import libraries"
   ],
   "metadata": {
    "id": "zHStSVhiQQok"
   }
  },
  {
   "cell_type": "code",
   "source": [
    "import os\n",
    "import google.generativeai as genai\n",
    "import ipywidgets as widgets\n",
    "from IPython.display import display, Markdown, clear_output"
   ],
   "metadata": {
    "id": "nUe8ARkeQUx7"
   },
   "execution_count": null,
   "outputs": []
  },
  {
   "cell_type": "markdown",
   "source": [
    "Step 3: Load secure API key"
   ],
   "metadata": {
    "id": "RAmk_dSHQYXy"
   }
  },
  {
   "cell_type": "code",
   "source": [
    "API_KEY = os.environ.get(\"GEMINI_API_KEY\")\n",
    "if not API_KEY:\n",
    "    raise ValueError(\"\u274c Gemini API key not found. Please set it using getpass first.\")\n",
    "\n",
    "genai.configure(api_key=API_KEY)\n",
    "model = genai.GenerativeModel(\"gemini-1.5-flash\")"
   ],
   "metadata": {
    "id": "lxfzMc4QQcyt"
   },
   "execution_count": null,
   "outputs": []
  },
  {
   "cell_type": "markdown",
   "source": [
    "Step 4: Define widgets"
   ],
   "metadata": {
    "id": "rz565ld_QiML"
   }
  },
  {
   "cell_type": "code",
   "source": [
    "topic_input = widgets.Text(\n",
    "    description='\ud83d\udcd8 Topic:',\n",
    "    placeholder='e.g. Python Loops, Photosynthesis...',\n",
    "    style={'description_width': 'initial'}\n",
    ")\n",
    "\n",
    "tone_input = widgets.Dropdown(\n",
    "    options=['Simple', 'Detailed', 'Motivational', 'Conversational'],\n",
    "    description='\ud83c\udfaf Tone:',\n",
    "    style={'description_width': 'initial'}\n",
    ")\n",
    "\n",
    "audience_input = widgets.Text(\n",
    "    description='\ud83d\udc65 Audience:',\n",
    "    placeholder='e.g. beginners, high school students...',\n",
    "    style={'description_width': 'initial'}\n",
    ")\n",
    "\n",
    "level_input = widgets.Dropdown(\n",
    "    options=['Beginner', 'Intermediate', 'Advanced'],\n",
    "    description='\u2699\ufe0f Level:',\n",
    "    style={'description_width': 'initial'}\n",
    ")\n",
    "\n",
    "language_input = widgets.Dropdown(\n",
    "    options=[\n",
    "        'English', 'Hindi', 'Bengali', 'Tamil', 'Telugu', 'Marathi', 'Kannada',\n",
    "        'Gujarati', 'Malayalam', 'Urdu'\n",
    "    ],\n",
    "    description='\ud83c\udf10 Language:',\n",
    "    style={'description_width': 'initial'}\n",
    ")\n",
    "\n",
    "submit_button = widgets.Button(\n",
    "    description='Generate Tip',\n",
    "    button_style='primary'\n",
    ")\n",
    "\n",
    "output = widgets.Output()"
   ],
   "metadata": {
    "id": "g9KYQgglQliI"
   },
   "execution_count": null,
   "outputs": []
  },
  {
   "cell_type": "markdown",
   "source": [
    "Step 5: Define the generation function"
   ],
   "metadata": {
    "id": "9dUcQPGBQsii"
   }
  },
  {
   "cell_type": "code",
   "source": [
    "def generate_tip(b):\n",
    "    output.clear_output()\n",
    "\n",
    "    selected_language = language_input.value\n",
    "\n",
    "    content_prompt = f\"\"\"\n",
    "You are EduBot \u2013 an expert AI Learning Assistant.\n",
    "Create a short, engaging, and helpful educational snippet for this topic:\n",
    "- Topic: \"{topic_input.value}\"\n",
    "- Audience: {audience_input.value}\n",
    "- Tone: {tone_input.value}\n",
    "- Level: {level_input.value}\n",
    "Respond in {selected_language}.\n",
    "Keep it under 100 words. Avoid unnecessary technical jargon.\n",
    "\"\"\"\n",
    "\n",
    "    resource_prompt = f\"\"\"\n",
    "Suggest 1 free online educational resource (website, video, or course) to learn about \"{topic_input.value}\".\n",
    "Include a short reason and a clickable link.\n",
    "Only recommend free content from trusted sources like YouTube, Coursera, edX, Khan Academy, GeeksforGeeks, etc.\n",
    "Respond in {selected_language}.\n",
    "\"\"\"\n",
    "\n",
    "    with output:\n",
    "        try:\n",
    "            tip_response = model.generate_content(content_prompt)\n",
    "            tip = tip_response.text.strip()\n",
    "\n",
    "            resource_response = model.generate_content(resource_prompt)\n",
    "            resource = resource_response.text.strip()\n",
    "\n",
    "            display(Markdown(f\"### \ud83c\udf93 EduTip ({selected_language}):\\n\\n{tip}\"))\n",
    "            display(Markdown(f\"---\\n### \ud83c\udf10 Learn More:\\n\\n{resource}\"))\n",
    "        except Exception as e:\n",
    "            print(\"\u274c Error:\", e)\n",
    "\n",
    "submit_button.on_click(generate_tip)\n"
   ],
   "metadata": {
    "id": "jXB7J2xNQw7e"
   },
   "execution_count": null,
   "outputs": []
  },
  {
   "cell_type": "markdown",
   "source": [
    "Step 6: Display the form"
   ],
   "metadata": {
    "id": "MAgWyFBsQ4YD"
   }
  },
  {
   "cell_type": "code",
   "source": [
    "form = widgets.VBox([\n",
    "    widgets.HTML(value=\"<h2>\ud83e\udd16 EduBot \u2013 AI Learning Assistant with Language Support</h2>\"),\n",
    "    topic_input,\n",
    "    tone_input,\n",
    "    audience_input,\n",
    "    level_input,\n",
    "    language_input,\n",
    "    submit_button,\n",
    "    output\n",
    "])\n",
    "\n",
    "display(form)"
   ],
   "metadata": {
    "colab": {
     "base_uri": "https://localhost:8080/",
     "height": 261,
     "referenced_widgets": [
      "071d3970d6a7413384a8f4b1e588bd9f",
      "f4b58c547d67413abc12e54f3b234696",
      "a5d865124c3f4c50a326b19df9318faa",
      "68914747e55949d1987e98240bd6ae2c",
      "e68de1d7c0f74e77847673b004be3ba8",
      "f8ec6443908e49dbad1d4cdb7b620b6c",
      "e5823b4e81dc481186e05d7f7b9fa4b6",
      "c88aca480c3741fcadb514ca7b335671",
      "3cd7b8cf5dc34216a7a9204b511b051b",
      "25afdffe94b9432f8640ff056e5df533",
      "fd0bb6f1627b4d658d381c97ba5069a0",
      "3db100c1a9304d7186dfd863cd335657",
      "64753c72b5e948fe82d7f3d8d94855d4",
      "e717d87a8cf9499380de0c3911bc82db",
      "5fe971c7bd4942f49d45c1031903a721",
      "a62a6be167b2460dae403afee60a362a",
      "f8ae144b5000424d84f6f4a8d947b765",
      "ffc8c6a42d124109a500056d3a86e59f",
      "986339bcfa5f4b8ebb2c56c04aa8d975",
      "96ab634039a040cf8dfa6bcde13b3f52",
      "3de4797c83e546fc992fe96b6f28eb1d",
      "75a66c4db5de4a21ab398f5672593c5d",
      "0e6584eef7c2487aab3b95cb350bcb2b",
      "871d8664de354dfb8b93129c24b626d3",
      "4f6d8b04843e45fcb023d675677bde9f"
     ]
    },
    "id": "Qm2BDPiqQ7_D",
    "outputId": "7caeb95a-f9c8-4b07-9854-af479b433021"
   },
   "execution_count": null,
   "outputs": [
    {
     "output_type": "display_data",
     "data": {
      "text/plain": [
       "VBox(children=(HTML(value='<h2>\ud83e\udd16 EduBot \u2013 AI Learning Assistant with Language Support</h2>'), Text(value='', d\u2026"
      ],
      "application/vnd.jupyter.widget-view+json": {
       "version_major": 2,
       "version_minor": 0,
       "model_id": "071d3970d6a7413384a8f4b1e588bd9f"
      }
     },
     "metadata": {}
    }
   ]
  }
 ]
}